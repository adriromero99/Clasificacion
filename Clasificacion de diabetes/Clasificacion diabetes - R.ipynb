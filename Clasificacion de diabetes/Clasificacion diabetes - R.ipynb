{
 "cells": [
  {
   "cell_type": "markdown",
   "id": "honey-mayor",
   "metadata": {},
   "source": [
    "# Detección de diabetes"
   ]
  },
  {
   "cell_type": "markdown",
   "id": "noticed-henry",
   "metadata": {},
   "source": [
    "## Objetivos: \n",
    "\n",
    "* Construir modelos que puedan **clasificar** una persona en diabética o no a partir de información medica.\n",
    "\n",
    "\n",
    "* Encontrar aquellas **variables** son **más relevantes** para la clasificación.\n",
    "\n",
    "\n",
    "* Discutir cuál es una **buena métrica** para evaluar el desempeño de los modelos."
   ]
  },
  {
   "cell_type": "markdown",
   "id": "atmospheric-brand",
   "metadata": {},
   "source": [
    "### Sobre el dataset:\n",
    "Proviene del **\"National Institute of Diabetes and Digestive and Kidney Diseases\"**\n",
    "\n",
    "Este dataset es un subconjunto de un dataset mucho mayor con las restricciones:\n",
    "\n",
    "* **Mujeres** \n",
    "\n",
    "* **Mayores de 21 años** \n",
    "\n",
    "* **De ascendencia Pima India**"
   ]
  },
  {
   "cell_type": "code",
   "execution_count": 1,
   "id": "amino-class",
   "metadata": {},
   "outputs": [
    {
     "name": "stderr",
     "output_type": "stream",
     "text": [
      "Warning message:\n",
      "\"package 'ggplot2' was built under R version 3.6.3\"Warning message:\n",
      "\"package 'GGally' was built under R version 3.6.3\"Registered S3 method overwritten by 'GGally':\n",
      "  method from   \n",
      "  +.gg   ggplot2\n",
      "Warning message:\n",
      "\"package 'klaR' was built under R version 3.6.3\"Loading required package: MASS\n"
     ]
    }
   ],
   "source": [
    "library(ggplot2)\n",
    "library(GGally)\n",
    "library(reshape2)\n",
    "library(klaR)"
   ]
  },
  {
   "cell_type": "code",
   "execution_count": 2,
   "id": "employed-poultry",
   "metadata": {},
   "outputs": [],
   "source": [
    "datos <- read.csv(\"diabetes.csv\")"
   ]
  },
  {
   "cell_type": "code",
   "execution_count": 3,
   "id": "original-summary",
   "metadata": {},
   "outputs": [],
   "source": [
    "fig <- function(width, heigth){\n",
    "     options(repr.plot.width = width, repr.plot.height = heigth)\n",
    "}"
   ]
  },
  {
   "cell_type": "markdown",
   "id": "discrete-scout",
   "metadata": {},
   "source": [
    "## Primeras entradas del dataset:"
   ]
  },
  {
   "cell_type": "code",
   "execution_count": 4,
   "id": "foreign-holmes",
   "metadata": {
    "scrolled": true
   },
   "outputs": [
    {
     "data": {
      "text/html": [
       "<table>\n",
       "<thead><tr><th scope=col>Pregnancies</th><th scope=col>Glucose</th><th scope=col>BloodPressure</th><th scope=col>SkinThickness</th><th scope=col>Insulin</th><th scope=col>BMI</th><th scope=col>DiabetesPedigreeFunction</th><th scope=col>Age</th><th scope=col>Outcome</th></tr></thead>\n",
       "<tbody>\n",
       "\t<tr><td>6    </td><td>148  </td><td>72   </td><td>35   </td><td>  0  </td><td>33.6 </td><td>0.627</td><td>50   </td><td>1    </td></tr>\n",
       "\t<tr><td>1    </td><td> 85  </td><td>66   </td><td>29   </td><td>  0  </td><td>26.6 </td><td>0.351</td><td>31   </td><td>0    </td></tr>\n",
       "\t<tr><td>8    </td><td>183  </td><td>64   </td><td> 0   </td><td>  0  </td><td>23.3 </td><td>0.672</td><td>32   </td><td>1    </td></tr>\n",
       "\t<tr><td>1    </td><td> 89  </td><td>66   </td><td>23   </td><td> 94  </td><td>28.1 </td><td>0.167</td><td>21   </td><td>0    </td></tr>\n",
       "\t<tr><td>0    </td><td>137  </td><td>40   </td><td>35   </td><td>168  </td><td>43.1 </td><td>2.288</td><td>33   </td><td>1    </td></tr>\n",
       "\t<tr><td>5    </td><td>116  </td><td>74   </td><td> 0   </td><td>  0  </td><td>25.6 </td><td>0.201</td><td>30   </td><td>0    </td></tr>\n",
       "</tbody>\n",
       "</table>\n"
      ],
      "text/latex": [
       "\\begin{tabular}{r|lllllllll}\n",
       " Pregnancies & Glucose & BloodPressure & SkinThickness & Insulin & BMI & DiabetesPedigreeFunction & Age & Outcome\\\\\n",
       "\\hline\n",
       "\t 6     & 148   & 72    & 35    &   0   & 33.6  & 0.627 & 50    & 1    \\\\\n",
       "\t 1     &  85   & 66    & 29    &   0   & 26.6  & 0.351 & 31    & 0    \\\\\n",
       "\t 8     & 183   & 64    &  0    &   0   & 23.3  & 0.672 & 32    & 1    \\\\\n",
       "\t 1     &  89   & 66    & 23    &  94   & 28.1  & 0.167 & 21    & 0    \\\\\n",
       "\t 0     & 137   & 40    & 35    & 168   & 43.1  & 2.288 & 33    & 1    \\\\\n",
       "\t 5     & 116   & 74    &  0    &   0   & 25.6  & 0.201 & 30    & 0    \\\\\n",
       "\\end{tabular}\n"
      ],
      "text/markdown": [
       "\n",
       "| Pregnancies | Glucose | BloodPressure | SkinThickness | Insulin | BMI | DiabetesPedigreeFunction | Age | Outcome |\n",
       "|---|---|---|---|---|---|---|---|---|\n",
       "| 6     | 148   | 72    | 35    |   0   | 33.6  | 0.627 | 50    | 1     |\n",
       "| 1     |  85   | 66    | 29    |   0   | 26.6  | 0.351 | 31    | 0     |\n",
       "| 8     | 183   | 64    |  0    |   0   | 23.3  | 0.672 | 32    | 1     |\n",
       "| 1     |  89   | 66    | 23    |  94   | 28.1  | 0.167 | 21    | 0     |\n",
       "| 0     | 137   | 40    | 35    | 168   | 43.1  | 2.288 | 33    | 1     |\n",
       "| 5     | 116   | 74    |  0    |   0   | 25.6  | 0.201 | 30    | 0     |\n",
       "\n"
      ],
      "text/plain": [
       "  Pregnancies Glucose BloodPressure SkinThickness Insulin BMI \n",
       "1 6           148     72            35              0     33.6\n",
       "2 1            85     66            29              0     26.6\n",
       "3 8           183     64             0              0     23.3\n",
       "4 1            89     66            23             94     28.1\n",
       "5 0           137     40            35            168     43.1\n",
       "6 5           116     74             0              0     25.6\n",
       "  DiabetesPedigreeFunction Age Outcome\n",
       "1 0.627                    50  1      \n",
       "2 0.351                    31  0      \n",
       "3 0.672                    32  1      \n",
       "4 0.167                    21  0      \n",
       "5 2.288                    33  1      \n",
       "6 0.201                    30  0      "
      ]
     },
     "metadata": {},
     "output_type": "display_data"
    }
   ],
   "source": [
    "head(datos)"
   ]
  },
  {
   "attachments": {},
   "cell_type": "markdown",
   "id": "banned-roller",
   "metadata": {},
   "source": [
    "* **DiabetesPedigreeFunction:** score que es mayor mientras mayor sea la probabilidad de tener diabetes basado en historia familiar\n",
    "\n",
    "* **Outcome:** 0 si la persona no es diabética, 1 si lo es"
   ]
  },
  {
   "cell_type": "markdown",
   "id": "confident-helen",
   "metadata": {},
   "source": [
    "## Análisis exploratorio"
   ]
  },
  {
   "cell_type": "markdown",
   "id": "colonial-postcard",
   "metadata": {},
   "source": [
    "### Sobre el dataset"
   ]
  },
  {
   "cell_type": "code",
   "execution_count": 5,
   "id": "american-technique",
   "metadata": {},
   "outputs": [
    {
     "data": {
      "text/plain": [
       "\n",
       "  0   1 \n",
       "500 268 "
      ]
     },
     "metadata": {},
     "output_type": "display_data"
    }
   ],
   "source": [
    "table(datos$Outcome)"
   ]
  },
  {
   "cell_type": "markdown",
   "id": "intelligent-overall",
   "metadata": {},
   "source": [
    "El dataset contiene información acerca de 768 mujeres, **500 de las cuales no son diabéticas y 268 si** lo son, por lo que las clases en el dataset no están balanceadas."
   ]
  },
  {
   "cell_type": "markdown",
   "id": "forced-static",
   "metadata": {},
   "source": [
    "### Boxplots"
   ]
  },
  {
   "cell_type": "code",
   "execution_count": 6,
   "id": "widespread-validity",
   "metadata": {},
   "outputs": [],
   "source": [
    "# Para cada una de las variables se realizo un boxplot de la siguiente manera:\n",
    "# ggplot(datos, aes(x=factor(Outcome), y=DiabetesPedigreeFunction, fill=factor(Outcome))) + geom_boxplot()"
   ]
  },
  {
   "cell_type": "markdown",
   "id": "photographic-compiler",
   "metadata": {},
   "source": [
    "<img src=\"Boxplots.png\" width=\"800\">"
   ]
  },
  {
   "cell_type": "markdown",
   "id": "departmental-theta",
   "metadata": {},
   "source": [
    "#### Observaciones de los boxplot:\n",
    "* **1** - La cantidad de **glucosa** en sangre es mayor en las personas con diabetes. El 75 % de las mujeres sin diabetes tiene un nivel de glucosa menor a 125 mientras que un 75 % de las mujeres con diabetes tiene un nivel de glucosa mayor a 120.\n",
    "\n",
    "\n",
    "* **2** - La mediana de la **insulina** en sangre para las personas con diabetes es aproximadamente 0. Sin embargo hay personas diabéticas que tienen una cantidad de insulina relativamentenormal o incluso elevada. \n",
    "\n",
    "\n",
    "* **3** - La **Función de Pedigree de Diabetes** no presenta muchas diferencias para personas diabéticay no diabéticas. Es levemente mayor en el caso de las personas con diabetes lo cual esesperado. Mujeres con **historial familiar similar.**\n",
    "\n",
    "\n",
    "* **4** - **Cantidad de embarazos, edad y BMI** aumentan para personas diabéticas. **Presión sanguínea y grosor de piel** también pero más levemente."
   ]
  },
  {
   "cell_type": "markdown",
   "id": "optional-vietnam",
   "metadata": {},
   "source": [
    "### Correlaciones"
   ]
  },
  {
   "cell_type": "code",
   "execution_count": 7,
   "id": "instrumental-swaziland",
   "metadata": {},
   "outputs": [
    {
     "data": {
      "text/html": [
       "<table>\n",
       "<thead><tr><th></th><th scope=col>Pregnancies</th><th scope=col>Glucose</th><th scope=col>BloodPressure</th><th scope=col>SkinThickness</th><th scope=col>Insulin</th><th scope=col>BMI</th><th scope=col>DiabetesPedigreeFunction</th><th scope=col>Age</th><th scope=col>Outcome</th></tr></thead>\n",
       "<tbody>\n",
       "\t<tr><th scope=row>Pregnancies</th><td> 1.00</td><td>0.13 </td><td>0.14 </td><td>-0.08</td><td>-0.07</td><td>0.02 </td><td>-0.03</td><td> 0.54</td><td>0.22 </td></tr>\n",
       "\t<tr><th scope=row>Glucose</th><td> 0.13</td><td>1.00 </td><td>0.15 </td><td> 0.06</td><td> 0.33</td><td>0.22 </td><td> 0.14</td><td> 0.26</td><td>0.47 </td></tr>\n",
       "\t<tr><th scope=row>BloodPressure</th><td> 0.14</td><td>0.15 </td><td>1.00 </td><td> 0.21</td><td> 0.09</td><td>0.28 </td><td> 0.04</td><td> 0.24</td><td>0.07 </td></tr>\n",
       "\t<tr><th scope=row>SkinThickness</th><td>-0.08</td><td>0.06 </td><td>0.21 </td><td> 1.00</td><td> 0.44</td><td>0.39 </td><td> 0.18</td><td>-0.11</td><td>0.07 </td></tr>\n",
       "\t<tr><th scope=row>Insulin</th><td>-0.07</td><td>0.33 </td><td>0.09 </td><td> 0.44</td><td> 1.00</td><td>0.20 </td><td> 0.19</td><td>-0.04</td><td>0.13 </td></tr>\n",
       "\t<tr><th scope=row>BMI</th><td> 0.02</td><td>0.22 </td><td>0.28 </td><td> 0.39</td><td> 0.20</td><td>1.00 </td><td> 0.14</td><td> 0.04</td><td>0.29 </td></tr>\n",
       "\t<tr><th scope=row>DiabetesPedigreeFunction</th><td>-0.03</td><td>0.14 </td><td>0.04 </td><td> 0.18</td><td> 0.19</td><td>0.14 </td><td> 1.00</td><td> 0.03</td><td>0.17 </td></tr>\n",
       "\t<tr><th scope=row>Age</th><td> 0.54</td><td>0.26 </td><td>0.24 </td><td>-0.11</td><td>-0.04</td><td>0.04 </td><td> 0.03</td><td> 1.00</td><td>0.24 </td></tr>\n",
       "\t<tr><th scope=row>Outcome</th><td> 0.22</td><td>0.47 </td><td>0.07 </td><td> 0.07</td><td> 0.13</td><td>0.29 </td><td> 0.17</td><td> 0.24</td><td>1.00 </td></tr>\n",
       "</tbody>\n",
       "</table>\n"
      ],
      "text/latex": [
       "\\begin{tabular}{r|lllllllll}\n",
       "  & Pregnancies & Glucose & BloodPressure & SkinThickness & Insulin & BMI & DiabetesPedigreeFunction & Age & Outcome\\\\\n",
       "\\hline\n",
       "\tPregnancies &  1.00 & 0.13  & 0.14  & -0.08 & -0.07 & 0.02  & -0.03 &  0.54 & 0.22 \\\\\n",
       "\tGlucose &  0.13 & 1.00  & 0.15  &  0.06 &  0.33 & 0.22  &  0.14 &  0.26 & 0.47 \\\\\n",
       "\tBloodPressure &  0.14 & 0.15  & 1.00  &  0.21 &  0.09 & 0.28  &  0.04 &  0.24 & 0.07 \\\\\n",
       "\tSkinThickness & -0.08 & 0.06  & 0.21  &  1.00 &  0.44 & 0.39  &  0.18 & -0.11 & 0.07 \\\\\n",
       "\tInsulin & -0.07 & 0.33  & 0.09  &  0.44 &  1.00 & 0.20  &  0.19 & -0.04 & 0.13 \\\\\n",
       "\tBMI &  0.02 & 0.22  & 0.28  &  0.39 &  0.20 & 1.00  &  0.14 &  0.04 & 0.29 \\\\\n",
       "\tDiabetesPedigreeFunction & -0.03 & 0.14  & 0.04  &  0.18 &  0.19 & 0.14  &  1.00 &  0.03 & 0.17 \\\\\n",
       "\tAge &  0.54 & 0.26  & 0.24  & -0.11 & -0.04 & 0.04  &  0.03 &  1.00 & 0.24 \\\\\n",
       "\tOutcome &  0.22 & 0.47  & 0.07  &  0.07 &  0.13 & 0.29  &  0.17 &  0.24 & 1.00 \\\\\n",
       "\\end{tabular}\n"
      ],
      "text/markdown": [
       "\n",
       "| <!--/--> | Pregnancies | Glucose | BloodPressure | SkinThickness | Insulin | BMI | DiabetesPedigreeFunction | Age | Outcome |\n",
       "|---|---|---|---|---|---|---|---|---|---|\n",
       "| Pregnancies |  1.00 | 0.13  | 0.14  | -0.08 | -0.07 | 0.02  | -0.03 |  0.54 | 0.22  |\n",
       "| Glucose |  0.13 | 1.00  | 0.15  |  0.06 |  0.33 | 0.22  |  0.14 |  0.26 | 0.47  |\n",
       "| BloodPressure |  0.14 | 0.15  | 1.00  |  0.21 |  0.09 | 0.28  |  0.04 |  0.24 | 0.07  |\n",
       "| SkinThickness | -0.08 | 0.06  | 0.21  |  1.00 |  0.44 | 0.39  |  0.18 | -0.11 | 0.07  |\n",
       "| Insulin | -0.07 | 0.33  | 0.09  |  0.44 |  1.00 | 0.20  |  0.19 | -0.04 | 0.13  |\n",
       "| BMI |  0.02 | 0.22  | 0.28  |  0.39 |  0.20 | 1.00  |  0.14 |  0.04 | 0.29  |\n",
       "| DiabetesPedigreeFunction | -0.03 | 0.14  | 0.04  |  0.18 |  0.19 | 0.14  |  1.00 |  0.03 | 0.17  |\n",
       "| Age |  0.54 | 0.26  | 0.24  | -0.11 | -0.04 | 0.04  |  0.03 |  1.00 | 0.24  |\n",
       "| Outcome |  0.22 | 0.47  | 0.07  |  0.07 |  0.13 | 0.29  |  0.17 |  0.24 | 1.00  |\n",
       "\n"
      ],
      "text/plain": [
       "                         Pregnancies Glucose BloodPressure SkinThickness\n",
       "Pregnancies               1.00       0.13    0.14          -0.08        \n",
       "Glucose                   0.13       1.00    0.15           0.06        \n",
       "BloodPressure             0.14       0.15    1.00           0.21        \n",
       "SkinThickness            -0.08       0.06    0.21           1.00        \n",
       "Insulin                  -0.07       0.33    0.09           0.44        \n",
       "BMI                       0.02       0.22    0.28           0.39        \n",
       "DiabetesPedigreeFunction -0.03       0.14    0.04           0.18        \n",
       "Age                       0.54       0.26    0.24          -0.11        \n",
       "Outcome                   0.22       0.47    0.07           0.07        \n",
       "                         Insulin BMI  DiabetesPedigreeFunction Age   Outcome\n",
       "Pregnancies              -0.07   0.02 -0.03                     0.54 0.22   \n",
       "Glucose                   0.33   0.22  0.14                     0.26 0.47   \n",
       "BloodPressure             0.09   0.28  0.04                     0.24 0.07   \n",
       "SkinThickness             0.44   0.39  0.18                    -0.11 0.07   \n",
       "Insulin                   1.00   0.20  0.19                    -0.04 0.13   \n",
       "BMI                       0.20   1.00  0.14                     0.04 0.29   \n",
       "DiabetesPedigreeFunction  0.19   0.14  1.00                     0.03 0.17   \n",
       "Age                      -0.04   0.04  0.03                     1.00 0.24   \n",
       "Outcome                   0.13   0.29  0.17                     0.24 1.00   "
      ]
     },
     "metadata": {},
     "output_type": "display_data"
    }
   ],
   "source": [
    "round(cor(datos),2)"
   ]
  },
  {
   "cell_type": "markdown",
   "id": "incorporated-enzyme",
   "metadata": {},
   "source": [
    "#### Observaciones en las correlaciones:\n",
    "\n",
    "* **1** - Las variables **no están muy correlacionadas** entre si, en general las correlaciones son menores a en modulo 0.3\n",
    "\n",
    "\n",
    "* **2** - Existe una correlación positiva entre **edad y cantidad de embarazos.**\n",
    "\n",
    "\n",
    "* **3** - **Insulina y glucosa** están correlacionados positivamente.\n",
    "\n",
    "\n",
    "* **4** - La variable mas correlacionada con el resultado o outcome es la **glucosa** en sangre y las iguiente el **BMI**"
   ]
  },
  {
   "cell_type": "markdown",
   "id": "tutorial-therapy",
   "metadata": {},
   "source": [
    "# LDA/QDA\n",
    "\n",
    "En primer lugar se realizaran LDA y QDA unicamente para las variables Glucosa y BMI con el objetivo de comparar la particion del espacio de decision con los del arbol y del bootstrap.\n",
    "\n",
    "#### Nota: Antes de realizar un analisis de LDA y QDA siempre se debe testear normalidad, es un supuesto fuerte del modelo"
   ]
  },
  {
   "cell_type": "markdown",
   "id": "requested-science",
   "metadata": {},
   "source": [
    "Busco las fronteras de division entre las personas dibieticas y no diabeticas segun QDA. Para ello hay que buscar estimaciones de:\n",
    "\n",
    "$\\hat\\Sigma_1$, $\\hat\\Sigma_2$ y $\\hat\\Sigma$ las matrices de covarianza de las personas diabeticas, no diabeticas y un promedio ponderado de ambas.\n",
    "\n",
    "$\\hat\\mu_1$ y $\\hat\\mu_2$ El vector de medias [Glucosa, BMI] para personas diabeticas y no diabeticas\n",
    " \n",
    "$\\hatπ_1$ y $\\hatπ_2$ Estimacion de la probabilidad a priori de pertenecer a cada clase."
   ]
  },
  {
   "cell_type": "code",
   "execution_count": 8,
   "id": "affiliated-denmark",
   "metadata": {},
   "outputs": [],
   "source": [
    "group1 = datos[datos$Outcome==0,]\n",
    "group2 = datos[datos$Outcome==1,]\n",
    "\n",
    "# En la columna 6 esta BMI y en la 2 Glucosa\n",
    "cov1 = cov(group1[,c(6,2)])\n",
    "cov2 = cov(group2[,c(6,2)])\n",
    "\n",
    "n1 = nrow(group1)\n",
    "n2 = nrow(group2)\n",
    "\n",
    "n = n1+n2\n",
    "K = 2\n",
    "\n",
    "Sigma <- 1/(n - K) * (cov1*(n1-1) + cov2*(n2-1))\n",
    "SigmaInv = solve(Sigma);"
   ]
  },
  {
   "cell_type": "code",
   "execution_count": 9,
   "id": "moderate-winner",
   "metadata": {},
   "outputs": [
    {
     "data": {
      "text/html": [
       "<table>\n",
       "<thead><tr><th></th><th scope=col>BMI</th><th scope=col>Glucose</th></tr></thead>\n",
       "<tbody>\n",
       "\t<tr><th scope=row>BMI</th><td>59.13387 </td><td> 26.48445</td></tr>\n",
       "\t<tr><th scope=row>Glucose</th><td>26.48445 </td><td>683.36232</td></tr>\n",
       "</tbody>\n",
       "</table>\n"
      ],
      "text/latex": [
       "\\begin{tabular}{r|ll}\n",
       "  & BMI & Glucose\\\\\n",
       "\\hline\n",
       "\tBMI & 59.13387  &  26.48445\\\\\n",
       "\tGlucose & 26.48445  & 683.36232\\\\\n",
       "\\end{tabular}\n"
      ],
      "text/markdown": [
       "\n",
       "| <!--/--> | BMI | Glucose |\n",
       "|---|---|---|\n",
       "| BMI | 59.13387  |  26.48445 |\n",
       "| Glucose | 26.48445  | 683.36232 |\n",
       "\n"
      ],
      "text/plain": [
       "        BMI      Glucose  \n",
       "BMI     59.13387  26.48445\n",
       "Glucose 26.48445 683.36232"
      ]
     },
     "metadata": {},
     "output_type": "display_data"
    },
    {
     "data": {
      "text/html": [
       "<table>\n",
       "<thead><tr><th></th><th scope=col>BMI</th><th scope=col>Glucose</th></tr></thead>\n",
       "<tbody>\n",
       "\t<tr><th scope=row>BMI</th><td>52.75069  </td><td>  11.69575</td></tr>\n",
       "\t<tr><th scope=row>Glucose</th><td>11.69575  </td><td>1020.13946</td></tr>\n",
       "</tbody>\n",
       "</table>\n"
      ],
      "text/latex": [
       "\\begin{tabular}{r|ll}\n",
       "  & BMI & Glucose\\\\\n",
       "\\hline\n",
       "\tBMI & 52.75069   &   11.69575\\\\\n",
       "\tGlucose & 11.69575   & 1020.13946\\\\\n",
       "\\end{tabular}\n"
      ],
      "text/markdown": [
       "\n",
       "| <!--/--> | BMI | Glucose |\n",
       "|---|---|---|\n",
       "| BMI | 52.75069   |   11.69575 |\n",
       "| Glucose | 11.69575   | 1020.13946 |\n",
       "\n"
      ],
      "text/plain": [
       "        BMI      Glucose   \n",
       "BMI     52.75069   11.69575\n",
       "Glucose 11.69575 1020.13946"
      ]
     },
     "metadata": {},
     "output_type": "display_data"
    },
    {
     "data": {
      "text/html": [
       "<table>\n",
       "<thead><tr><th></th><th scope=col>BMI</th><th scope=col>Glucose</th></tr></thead>\n",
       "<tbody>\n",
       "\t<tr><th scope=row>BMI</th><td>56.90892 </td><td> 21.32964</td></tr>\n",
       "\t<tr><th scope=row>Glucose</th><td>21.32964 </td><td>800.75070</td></tr>\n",
       "</tbody>\n",
       "</table>\n"
      ],
      "text/latex": [
       "\\begin{tabular}{r|ll}\n",
       "  & BMI & Glucose\\\\\n",
       "\\hline\n",
       "\tBMI & 56.90892  &  21.32964\\\\\n",
       "\tGlucose & 21.32964  & 800.75070\\\\\n",
       "\\end{tabular}\n"
      ],
      "text/markdown": [
       "\n",
       "| <!--/--> | BMI | Glucose |\n",
       "|---|---|---|\n",
       "| BMI | 56.90892  |  21.32964 |\n",
       "| Glucose | 21.32964  | 800.75070 |\n",
       "\n"
      ],
      "text/plain": [
       "        BMI      Glucose  \n",
       "BMI     56.90892  21.32964\n",
       "Glucose 21.32964 800.75070"
      ]
     },
     "metadata": {},
     "output_type": "display_data"
    }
   ],
   "source": [
    "cov1\n",
    "cov2\n",
    "Sigma"
   ]
  },
  {
   "cell_type": "code",
   "execution_count": 10,
   "id": "arranged-pierre",
   "metadata": {},
   "outputs": [
    {
     "data": {
      "text/html": [
       "<table>\n",
       "<tbody>\n",
       "\t<tr><td> 30.3042</td></tr>\n",
       "\t<tr><td>109.9800</td></tr>\n",
       "</tbody>\n",
       "</table>\n"
      ],
      "text/latex": [
       "\\begin{tabular}{l}\n",
       "\t  30.3042\\\\\n",
       "\t 109.9800\\\\\n",
       "\\end{tabular}\n"
      ],
      "text/markdown": [
       "\n",
       "|  30.3042 |\n",
       "| 109.9800 |\n",
       "\n"
      ],
      "text/plain": [
       "     [,1]    \n",
       "[1,]  30.3042\n",
       "[2,] 109.9800"
      ]
     },
     "metadata": {},
     "output_type": "display_data"
    },
    {
     "data": {
      "text/html": [
       "<table>\n",
       "<tbody>\n",
       "\t<tr><td> 35.14254</td></tr>\n",
       "\t<tr><td>141.25746</td></tr>\n",
       "</tbody>\n",
       "</table>\n"
      ],
      "text/latex": [
       "\\begin{tabular}{l}\n",
       "\t  35.14254\\\\\n",
       "\t 141.25746\\\\\n",
       "\\end{tabular}\n"
      ],
      "text/markdown": [
       "\n",
       "|  35.14254 |\n",
       "| 141.25746 |\n",
       "\n"
      ],
      "text/plain": [
       "     [,1]     \n",
       "[1,]  35.14254\n",
       "[2,] 141.25746"
      ]
     },
     "metadata": {},
     "output_type": "display_data"
    }
   ],
   "source": [
    "mu_1 = rbind(mean(group1$BMI),mean(group1$Glucose))\n",
    "mu_2 = rbind(mean(group2$BMI),mean(group2$Glucose))\n",
    "mu_1\n",
    "mu_2"
   ]
  },
  {
   "cell_type": "markdown",
   "id": "acoustic-innocent",
   "metadata": {},
   "source": [
    "### Los resultados obtenidos fueron los siguientes:"
   ]
  },
  {
   "cell_type": "markdown",
   "id": "relevant-rough",
   "metadata": {},
   "source": [
    "$\\hat\\Sigma_1$ = $\\begin{bmatrix}\n",
    "59.133\t& 26.484 \\\\\n",
    "26.484\t& 683.362\n",
    "\\end{bmatrix}$\n",
    "\n",
    "\n",
    "$\\hat\\Sigma_2 = \\begin{bmatrix}\n",
    "52.750 & 11.695 \\\\\n",
    "11.695 & 1020.139\n",
    "\\end{bmatrix}$\n",
    "\n",
    "\n",
    "$\\hat\\Sigma = \\begin{bmatrix}\n",
    "56.908 & 21.329 \\\\\n",
    "21.329 & 800.750\n",
    "\\end{bmatrix}$\n",
    "\n",
    "$\\hat\\mu_1 = \\begin{bmatrix}\n",
    "30.304 \\\\\n",
    "109.980 \n",
    "\\end{bmatrix}$\n",
    "\n",
    "$\\hat\\mu_2 = \\begin{bmatrix}\n",
    "35.142 \\\\\n",
    "141.257\n",
    "\\end{bmatrix}$\n",
    " \n",
    "$\\hatπ_1= \\frac{500}{768}$ \n",
    "\n",
    "$\\hatπ_2= \\frac{268}{768}$"
   ]
  },
  {
   "cell_type": "markdown",
   "id": "bigger-publication",
   "metadata": {},
   "source": [
    "Para hallar las fronteras de decision se debe calcular:\n",
    "\n",
    "$L_1(x) - L_2(X)$ donde $L_i(x)= \\mu_i^T \\Sigma^{-1} (x-\\frac{1}{2}\\mu_i)+\\text{log}\\pi_i$ \n",
    "\n",
    "$Q_1(x) - Q_2(x)$ donde $Q_i(x) = -\\frac{1}{2}\\text{log}|\\Sigma_i|-\\frac{1}{2}(x-\\mu_{i})^{T}\\Sigma_{i}^{-1}(x-\\mu_{i})+\\text{log}\\pi_i$"
   ]
  },
  {
   "cell_type": "code",
   "execution_count": 11,
   "id": "experienced-background",
   "metadata": {},
   "outputs": [],
   "source": [
    "#Realizando las cuentas: \n",
    "# L1 - L2 = −0.0371y−0.07x+ 7.623 = 0\n",
    "# Q1 - Q2 = 1.024x^2+ 0.408xy−0.215y^2−200.5x−1,07y=−7197,01"
   ]
  },
  {
   "cell_type": "markdown",
   "id": "modified-national",
   "metadata": {},
   "source": [
    "Estas funciones dividen al espacio de decision de la siguiente manera:"
   ]
  },
  {
   "cell_type": "code",
   "execution_count": 12,
   "id": "accompanied-mercy",
   "metadata": {},
   "outputs": [],
   "source": [
    "#partimat(as.factor(datos$Outcome) ~datos$Glucose + datos$BMI, method=\"lda\", col.correct=NA, col.wrong=NA)"
   ]
  },
  {
   "cell_type": "markdown",
   "id": "natural-contrary",
   "metadata": {},
   "source": [
    "<img src=\"ldapartition.png\" width=\"500\" height=\"500\"> "
   ]
  },
  {
   "cell_type": "code",
   "execution_count": 13,
   "id": "hundred-homeless",
   "metadata": {},
   "outputs": [],
   "source": [
    "#partimat(as.factor(datos$Outcome) ~datos$Glucose + datos$BMI, method=\"qda\", col.correct=NA, col.wrong=NA, precision =100)"
   ]
  },
  {
   "cell_type": "markdown",
   "id": "median-portugal",
   "metadata": {},
   "source": [
    "<img src=\"qdapartition.png\" width=\"500\" height=\"500\"> "
   ]
  },
  {
   "cell_type": "markdown",
   "id": "social-douglas",
   "metadata": {},
   "source": [
    "### Observaciones:\n",
    "\n",
    "* QDA tiene mayor flexibilidad en la frontera de las regiones, esto sucede porque el algoritmo realiza menos supuestos acerca de los datos, en particular no presupone que la matriz de covarianza es la misma para todas las clases.\n",
    "\n",
    "\n",
    "* Las regiones halladas con QDA son mas similares a las halladas con el árbol de decisión y su desempeño también.\n",
    "\n",
    "\n",
    "* Las regiones halladas con LDA son mas similares a las halladas con KNN y su desempeño también."
   ]
  },
  {
   "cell_type": "markdown",
   "id": "sacred-commitment",
   "metadata": {},
   "source": [
    "### Predicciones con QDA - Glucosa y BMI"
   ]
  },
  {
   "cell_type": "code",
   "execution_count": 14,
   "id": "equal-accounting",
   "metadata": {},
   "outputs": [],
   "source": [
    "clases_predichas_qda <- qda(datos$Outcome ~ datos$BMI+ datos$Glucose, data=datos, na.action=\"na.omit\", CV=TRUE) #CV = TRUE utiliza jack-knifed leave-one out CV"
   ]
  },
  {
   "cell_type": "code",
   "execution_count": 15,
   "id": "african-emperor",
   "metadata": {},
   "outputs": [
    {
     "data": {
      "text/plain": [
       "   \n",
       "      0   1\n",
       "  0 449  51\n",
       "  1 133 135"
      ]
     },
     "metadata": {},
     "output_type": "display_data"
    }
   ],
   "source": [
    "ct <- table(datos$Outcome, clases_predichas_qda$class)\n",
    "ct"
   ]
  },
  {
   "cell_type": "code",
   "execution_count": 16,
   "id": "remarkable-heating",
   "metadata": {},
   "outputs": [],
   "source": [
    "accuracy = (449 + 135) / (449 + 135 + 51 + 133)\n",
    "precision = 135/ (135+51)\n",
    "recall = 135/(135+133)"
   ]
  },
  {
   "cell_type": "code",
   "execution_count": 17,
   "id": "brazilian-establishment",
   "metadata": {},
   "outputs": [
    {
     "data": {
      "text/html": [
       "0.76"
      ],
      "text/latex": [
       "0.76"
      ],
      "text/markdown": [
       "0.76"
      ],
      "text/plain": [
       "[1] 0.76"
      ]
     },
     "metadata": {},
     "output_type": "display_data"
    },
    {
     "data": {
      "text/html": [
       "0.726"
      ],
      "text/latex": [
       "0.726"
      ],
      "text/markdown": [
       "0.726"
      ],
      "text/plain": [
       "[1] 0.726"
      ]
     },
     "metadata": {},
     "output_type": "display_data"
    },
    {
     "data": {
      "text/html": [
       "0.504"
      ],
      "text/latex": [
       "0.504"
      ],
      "text/markdown": [
       "0.504"
      ],
      "text/plain": [
       "[1] 0.504"
      ]
     },
     "metadata": {},
     "output_type": "display_data"
    }
   ],
   "source": [
    "round(accuracy,3)\n",
    "round(precision,3)\n",
    "round(recall,3)"
   ]
  },
  {
   "cell_type": "markdown",
   "id": "fabulous-interval",
   "metadata": {},
   "source": [
    "### Predicciones con LDA - Glucosa y BMI"
   ]
  },
  {
   "cell_type": "code",
   "execution_count": 18,
   "id": "aging-somalia",
   "metadata": {},
   "outputs": [],
   "source": [
    "clases_predichas_lda <- lda(datos$Outcome ~ datos$BMI+ datos$Glucose, data=datos, na.action=\"na.omit\", CV=TRUE) #CV = TRUE utiliza jack-knifed leave-one out CV"
   ]
  },
  {
   "cell_type": "code",
   "execution_count": 19,
   "id": "subsequent-looking",
   "metadata": {},
   "outputs": [
    {
     "data": {
      "text/plain": [
       "   \n",
       "      0   1\n",
       "  0 448  52\n",
       "  1 125 143"
      ]
     },
     "metadata": {},
     "output_type": "display_data"
    }
   ],
   "source": [
    "ct <- table(datos$Outcome, clases_predichas_lda$class)\n",
    "ct"
   ]
  },
  {
   "cell_type": "code",
   "execution_count": 20,
   "id": "supreme-wholesale",
   "metadata": {},
   "outputs": [],
   "source": [
    "accuracy = (448 + 143) / (448 + 143 + 52 + 125)\n",
    "precision = 143/ (143+52)\n",
    "recall = 143/(143+125)"
   ]
  },
  {
   "cell_type": "code",
   "execution_count": 21,
   "id": "logical-investigator",
   "metadata": {},
   "outputs": [
    {
     "data": {
      "text/html": [
       "0.77"
      ],
      "text/latex": [
       "0.77"
      ],
      "text/markdown": [
       "0.77"
      ],
      "text/plain": [
       "[1] 0.77"
      ]
     },
     "metadata": {},
     "output_type": "display_data"
    },
    {
     "data": {
      "text/html": [
       "0.733"
      ],
      "text/latex": [
       "0.733"
      ],
      "text/markdown": [
       "0.733"
      ],
      "text/plain": [
       "[1] 0.733"
      ]
     },
     "metadata": {},
     "output_type": "display_data"
    },
    {
     "data": {
      "text/html": [
       "0.534"
      ],
      "text/latex": [
       "0.534"
      ],
      "text/markdown": [
       "0.534"
      ],
      "text/plain": [
       "[1] 0.534"
      ]
     },
     "metadata": {},
     "output_type": "display_data"
    }
   ],
   "source": [
    "round(accuracy,3)\n",
    "round(precision,3)\n",
    "round(recall,3)"
   ]
  },
  {
   "cell_type": "markdown",
   "id": "square-destiny",
   "metadata": {},
   "source": [
    "### Predicciones con LDA - Todas las variables"
   ]
  },
  {
   "cell_type": "code",
   "execution_count": 22,
   "id": "developmental-peeing",
   "metadata": {},
   "outputs": [],
   "source": [
    "clases_predichas_lda <- lda(datos$Outcome ~ datos$BMI+ datos$Glucose + datos$Insulin+ datos$Age +  datos$Pregnancies+ datos$SkinThickness +  datos$BloodPressure+ datos$DiabetesPedigreeFunction, data=datos, na.action=\"na.omit\", CV=TRUE) #CV = TRUE utiliza jack-knifed leave-one out CV"
   ]
  },
  {
   "cell_type": "code",
   "execution_count": 23,
   "id": "aggressive-queensland",
   "metadata": {},
   "outputs": [
    {
     "data": {
      "text/plain": [
       "   \n",
       "      0   1\n",
       "  0 442  58\n",
       "  1 115 153"
      ]
     },
     "metadata": {},
     "output_type": "display_data"
    }
   ],
   "source": [
    "ct <- table(datos$Outcome, clases_predichas_lda$class)\n",
    "ct"
   ]
  },
  {
   "cell_type": "code",
   "execution_count": 24,
   "id": "previous-server",
   "metadata": {},
   "outputs": [],
   "source": [
    "accuracy = (442 + 153) / (442 + 153 + 58 + 115)\n",
    "precision = 153/ (153+58)\n",
    "recall = 153/(153+115)"
   ]
  },
  {
   "cell_type": "code",
   "execution_count": 25,
   "id": "norwegian-recovery",
   "metadata": {},
   "outputs": [
    {
     "data": {
      "text/html": [
       "0.775"
      ],
      "text/latex": [
       "0.775"
      ],
      "text/markdown": [
       "0.775"
      ],
      "text/plain": [
       "[1] 0.775"
      ]
     },
     "metadata": {},
     "output_type": "display_data"
    },
    {
     "data": {
      "text/html": [
       "0.725"
      ],
      "text/latex": [
       "0.725"
      ],
      "text/markdown": [
       "0.725"
      ],
      "text/plain": [
       "[1] 0.725"
      ]
     },
     "metadata": {},
     "output_type": "display_data"
    },
    {
     "data": {
      "text/html": [
       "0.571"
      ],
      "text/latex": [
       "0.571"
      ],
      "text/markdown": [
       "0.571"
      ],
      "text/plain": [
       "[1] 0.571"
      ]
     },
     "metadata": {},
     "output_type": "display_data"
    }
   ],
   "source": [
    "round(accuracy,3)\n",
    "round(precision,3)\n",
    "round(recall,3)"
   ]
  },
  {
   "cell_type": "markdown",
   "id": "polish-disabled",
   "metadata": {},
   "source": [
    "### Predicciones con QDA - Todas las variables"
   ]
  },
  {
   "cell_type": "code",
   "execution_count": 26,
   "id": "annoying-automation",
   "metadata": {},
   "outputs": [],
   "source": [
    "clases_predichas_qda <- qda(datos$Outcome ~ datos$BMI+ datos$Glucose + datos$Insulin+ datos$Age +  datos$Pregnancies+ datos$SkinThickness +  datos$BloodPressure+ datos$DiabetesPedigreeFunction, data=datos, na.action=\"na.omit\", CV=TRUE) #CV = TRUE utiliza jack-knifed leave-one out CV"
   ]
  },
  {
   "cell_type": "code",
   "execution_count": 27,
   "id": "removable-johns",
   "metadata": {},
   "outputs": [
    {
     "data": {
      "text/plain": [
       "   \n",
       "      0   1\n",
       "  0 420  80\n",
       "  1 120 148"
      ]
     },
     "metadata": {},
     "output_type": "display_data"
    }
   ],
   "source": [
    "ct <- table(datos$Outcome, clases_predichas_qda$class)\n",
    "ct"
   ]
  },
  {
   "cell_type": "code",
   "execution_count": 28,
   "id": "strong-lodge",
   "metadata": {},
   "outputs": [],
   "source": [
    "accuracy = (420 + 148) / (420 + 148 + 80 + 120)\n",
    "precision = 148/ (148+80)\n",
    "recall = 148/(148+120)"
   ]
  },
  {
   "cell_type": "code",
   "execution_count": 29,
   "id": "metallic-objective",
   "metadata": {},
   "outputs": [
    {
     "data": {
      "text/html": [
       "0.74"
      ],
      "text/latex": [
       "0.74"
      ],
      "text/markdown": [
       "0.74"
      ],
      "text/plain": [
       "[1] 0.74"
      ]
     },
     "metadata": {},
     "output_type": "display_data"
    },
    {
     "data": {
      "text/html": [
       "0.649"
      ],
      "text/latex": [
       "0.649"
      ],
      "text/markdown": [
       "0.649"
      ],
      "text/plain": [
       "[1] 0.649"
      ]
     },
     "metadata": {},
     "output_type": "display_data"
    },
    {
     "data": {
      "text/html": [
       "0.552"
      ],
      "text/latex": [
       "0.552"
      ],
      "text/markdown": [
       "0.552"
      ],
      "text/plain": [
       "[1] 0.552"
      ]
     },
     "metadata": {},
     "output_type": "display_data"
    }
   ],
   "source": [
    "round(accuracy,3)\n",
    "round(precision,3)\n",
    "round(recall,3)"
   ]
  },
  {
   "cell_type": "markdown",
   "id": "simplified-anaheim",
   "metadata": {},
   "source": [
    "### Resultados de LDA/QDA"
   ]
  },
  {
   "cell_type": "markdown",
   "id": "affiliated-adjustment",
   "metadata": {},
   "source": [
    "<img src=\"resultadosldaqda.png\" width=\"400\" height=\"800\">"
   ]
  },
  {
   "cell_type": "markdown",
   "id": "progressive-religion",
   "metadata": {},
   "source": [
    "## Resumen de resultados LDA/QDA"
   ]
  },
  {
   "cell_type": "markdown",
   "id": "strategic-personal",
   "metadata": {},
   "source": [
    "### Conclusiones"
   ]
  },
  {
   "cell_type": "markdown",
   "id": "visible-serve",
   "metadata": {},
   "source": [
    "#### Se obtuvieron las siguientes conclusiones a partir de la realización del trabajo practico:\n",
    "\n",
    "\n",
    "* Las **variables mas relevantes para realizar la clasificación son Glucosa y BMI**, pues:\n",
    "     * Son las variables con mayor correlación con el resultado que indica si una persona esdiabética o no.\n",
    "     * Los boxplots muestran que los valores de estas variables son significativamente diferentespara las personas diabéticas que para las personas no diabéticas\n",
    "     * El scatter plot de BMI vs. Glucosa muestra que estas variables separan bien a lasobservaciones de cada clase.\n",
    "\n",
    "\n",
    "\n",
    "* Al utilizar los distintos modelos con estas variables se obtuvieron resultados similares que al utilizar los modelos con todas las variables.\n",
    "  \n",
    "  \n",
    "* En todos los modelos el **recall fue la métrica con menor valor**. Esta es una métrica muy importante sobre todo en este caso, el siguiente ejemplo lo demuestra. Si a las personasque se predice con diabetes reciben un medicamento y a las personas que se predicen nodiabéticas no lo reciben, pueden darse las siguientes situaciones:\n",
    "    \n",
    "     * Una persona con diabetes recibe el medicamento\n",
    "     * Una persona sin diabetes recibe el medicamento\n",
    "     * Una persona **con diabetes no recibe el medicamento**\n",
    "     * Una persona sin diabetes no recibe el medicamento\n",
    "  \n",
    "  \n",
    "Claramente el error que se comete cuando una persona con diabetes no recibe el medicamento que le es necesario es peor a el que se comete cuando una persona sin diabetes lo recibe. Es decir, hay que buscar tener pocos falsos negativos (personas que se clasifican no diabéticas y que en verdad lo son). Al final de las conclusiones se proponen algunos cambios posibles alos algoritmos hallados para intentar mejorar esta métrica.\n",
    "\n",
    "\n",
    "* La división del espacio de decisión formado por las variables glucosa y BMI es muy diferentes egún el algoritmo que se utilice."
   ]
  },
  {
   "cell_type": "markdown",
   "id": "hollywood-sally",
   "metadata": {},
   "source": [
    "### Mejoras propuestas\n",
    "\n",
    "* Una potencial mejora para este proyecto podría realizarse obteniendo un dataset menossesgado. El dataset utilizado en el trabajo tiene información solo de mujeres y que además comparten ascendencia, lo cual potencialmente reduce la extrapolación de estos resultados.\n",
    "\n",
    "\n",
    "* De todos los algoritmos utilizados en el trabajo puede extraerse una estimación de probabi-lidad de pertenecer a una clase. Por ejemplo:\n",
    "\n",
    "    •En el árbol de decisión: la cantidad de observaciones de cada clase que hay en las hojasdel árbol pueden utilizarse como estimación para la probabilidad de que una observaciónpertenezca a una clase.\n",
    "    \n",
    "    •En bagging: mientras mas arboles predigan que una observación es de cierta clase,mayor sera la probabilidad de que sea de esa clase.\n",
    "    \n",
    "    •En KNN: contando la cantidad de vecinos de una clase se puede obtener la probabilidadde que sea de esa clase\n",
    "    \n",
    "Seria interesante ver que ocurre con el recall y el precision al variar el umbral de probabilidad para el cual uno considera que una persona es diabática."
   ]
  }
 ],
 "metadata": {
  "kernelspec": {
   "display_name": "R",
   "language": "R",
   "name": "ir"
  },
  "language_info": {
   "codemirror_mode": "r",
   "file_extension": ".r",
   "mimetype": "text/x-r-source",
   "name": "R",
   "pygments_lexer": "r",
   "version": "3.6.1"
  }
 },
 "nbformat": 4,
 "nbformat_minor": 5
}
