{
 "cells": [
  {
   "cell_type": "markdown",
   "metadata": {},
   "source": [
    "# Clasificación de género\n",
    "\n",
    "El objetivo del proyecto es lograr predecir el género de personas encuestadas en base a sus respuestas acecrca de:\n",
    "* Color favorito\n",
    "* Género de música favorito\n",
    "* Bebida alcohólica favorita\n",
    "* Bebida no alcohólica favorita\n",
    "\n",
    "Se probarán los clasificadores de Naive Bayes y Árbol de Decisión y en base a los resultados se eligirá el mejor modelo entre estos. El objetivo es no solo aprender a utilizar la librería sci-kit learn, sino tambien lograr crear los clasificadores de manera manual.\n",
    "\n",
    "Además se intentará juzgar si los features son buenos para lograr la clasifiación o si no permiten una clasificación óptima y se intentará escoger los features más representativos."
   ]
  },
  {
   "cell_type": "markdown",
   "metadata": {},
   "source": [
    "Incluyo las bibliotecas que utilizaré a lo largo del proyecto:"
   ]
  },
  {
   "cell_type": "code",
   "execution_count": 1,
   "metadata": {},
   "outputs": [],
   "source": [
    "import pandas as pd\n",
    "import numpy as np\n",
    "from pandas_profiling import ProfileReport\n",
    "import matplotlib.pyplot as plt\n",
    "import seaborn as sns\n",
    "from sklearn.model_selection import train_test_split\n",
    "from sklearn.naive_bayes import CategoricalNB\n",
    "from sklearn.preprocessing import OrdinalEncoder"
   ]
  },
  {
   "cell_type": "markdown",
   "metadata": {},
   "source": [
    "Cargo el dataset que se utilizará:"
   ]
  },
  {
   "cell_type": "code",
   "execution_count": 2,
   "metadata": {},
   "outputs": [],
   "source": [
    "datos_genero = pd.read_csv(\"dataset_genero.csv\")"
   ]
  },
  {
   "cell_type": "markdown",
   "metadata": {},
   "source": [
    "### Limpieza de datos"
   ]
  },
  {
   "cell_type": "markdown",
   "metadata": {},
   "source": [
    "Voy a visualizar las dimensiones y las categorias existentes en el dataset:"
   ]
  },
  {
   "cell_type": "code",
   "execution_count": 3,
   "metadata": {},
   "outputs": [
    {
     "data": {
      "text/plain": [
       "(66, 5)"
      ]
     },
     "execution_count": 3,
     "metadata": {},
     "output_type": "execute_result"
    }
   ],
   "source": [
    "datos_genero.shape"
   ]
  },
  {
   "cell_type": "code",
   "execution_count": 4,
   "metadata": {},
   "outputs": [
    {
     "data": {
      "text/html": [
       "<div>\n",
       "<style scoped>\n",
       "    .dataframe tbody tr th:only-of-type {\n",
       "        vertical-align: middle;\n",
       "    }\n",
       "\n",
       "    .dataframe tbody tr th {\n",
       "        vertical-align: top;\n",
       "    }\n",
       "\n",
       "    .dataframe thead th {\n",
       "        text-align: right;\n",
       "    }\n",
       "</style>\n",
       "<table border=\"1\" class=\"dataframe\">\n",
       "  <thead>\n",
       "    <tr style=\"text-align: right;\">\n",
       "      <th></th>\n",
       "      <th>Favorite Color</th>\n",
       "      <th>Favorite Music Genre</th>\n",
       "      <th>Favorite Beverage</th>\n",
       "      <th>Favorite Soft Drink</th>\n",
       "      <th>Gender</th>\n",
       "    </tr>\n",
       "  </thead>\n",
       "  <tbody>\n",
       "    <tr>\n",
       "      <th>0</th>\n",
       "      <td>Cool</td>\n",
       "      <td>Rock</td>\n",
       "      <td>Vodka</td>\n",
       "      <td>7UP/Sprite</td>\n",
       "      <td>F</td>\n",
       "    </tr>\n",
       "    <tr>\n",
       "      <th>1</th>\n",
       "      <td>Neutral</td>\n",
       "      <td>Hip hop</td>\n",
       "      <td>Vodka</td>\n",
       "      <td>Coca Cola/Pepsi</td>\n",
       "      <td>F</td>\n",
       "    </tr>\n",
       "    <tr>\n",
       "      <th>2</th>\n",
       "      <td>Warm</td>\n",
       "      <td>Rock</td>\n",
       "      <td>Wine</td>\n",
       "      <td>Coca Cola/Pepsi</td>\n",
       "      <td>F</td>\n",
       "    </tr>\n",
       "    <tr>\n",
       "      <th>3</th>\n",
       "      <td>Warm</td>\n",
       "      <td>Folk/Traditional</td>\n",
       "      <td>Whiskey</td>\n",
       "      <td>Fanta</td>\n",
       "      <td>F</td>\n",
       "    </tr>\n",
       "    <tr>\n",
       "      <th>4</th>\n",
       "      <td>Cool</td>\n",
       "      <td>Rock</td>\n",
       "      <td>Vodka</td>\n",
       "      <td>Coca Cola/Pepsi</td>\n",
       "      <td>F</td>\n",
       "    </tr>\n",
       "  </tbody>\n",
       "</table>\n",
       "</div>"
      ],
      "text/plain": [
       "  Favorite Color Favorite Music Genre Favorite Beverage Favorite Soft Drink  \\\n",
       "0           Cool                 Rock             Vodka          7UP/Sprite   \n",
       "1        Neutral              Hip hop             Vodka     Coca Cola/Pepsi   \n",
       "2           Warm                 Rock              Wine     Coca Cola/Pepsi   \n",
       "3           Warm     Folk/Traditional           Whiskey               Fanta   \n",
       "4           Cool                 Rock             Vodka     Coca Cola/Pepsi   \n",
       "\n",
       "  Gender  \n",
       "0      F  \n",
       "1      F  \n",
       "2      F  \n",
       "3      F  \n",
       "4      F  "
      ]
     },
     "execution_count": 4,
     "metadata": {},
     "output_type": "execute_result"
    }
   ],
   "source": [
    "datos_genero.head()"
   ]
  },
  {
   "cell_type": "markdown",
   "metadata": {},
   "source": [
    "Se observa que hubo 66 personas encuestadas que respondieron preguntas acerca de:\n",
    "* Color favorito\n",
    "* Género de música favorito\n",
    "* Bebida alcohólica favorita\n",
    "* Bebida no alcohólica favorita\n",
    "* Género"
   ]
  },
  {
   "cell_type": "markdown",
   "metadata": {},
   "source": [
    "Es un dataset pequeño"
   ]
  },
  {
   "cell_type": "markdown",
   "metadata": {},
   "source": [
    "Procedo a ver si hay missing values (valores nulos o faltantes) en el dataset:"
   ]
  },
  {
   "cell_type": "code",
   "execution_count": 5,
   "metadata": {},
   "outputs": [
    {
     "data": {
      "text/plain": [
       "Favorite Color          False\n",
       "Favorite Music Genre    False\n",
       "Favorite Beverage       False\n",
       "Favorite Soft Drink     False\n",
       "Gender                  False\n",
       "dtype: bool"
      ]
     },
     "execution_count": 5,
     "metadata": {},
     "output_type": "execute_result"
    }
   ],
   "source": [
    "datos_genero.isnull().any()"
   ]
  },
  {
   "cell_type": "markdown",
   "metadata": {},
   "source": [
    "No hay valores nulos. Decido hacer un análisis exploratorio de los datos antes de continuar con feature engineering. Esto puede darme algun indicio de cuales features son mas relevantes y/o útiles para la clasificación."
   ]
  },
  {
   "cell_type": "markdown",
   "metadata": {},
   "source": [
    "### Análisis Exploratorio"
   ]
  },
  {
   "cell_type": "markdown",
   "metadata": {},
   "source": [
    "Busco una descripción del dataset:"
   ]
  },
  {
   "cell_type": "code",
   "execution_count": 6,
   "metadata": {},
   "outputs": [
    {
     "data": {
      "text/html": [
       "<div>\n",
       "<style scoped>\n",
       "    .dataframe tbody tr th:only-of-type {\n",
       "        vertical-align: middle;\n",
       "    }\n",
       "\n",
       "    .dataframe tbody tr th {\n",
       "        vertical-align: top;\n",
       "    }\n",
       "\n",
       "    .dataframe thead th {\n",
       "        text-align: right;\n",
       "    }\n",
       "</style>\n",
       "<table border=\"1\" class=\"dataframe\">\n",
       "  <thead>\n",
       "    <tr style=\"text-align: right;\">\n",
       "      <th></th>\n",
       "      <th>Favorite Color</th>\n",
       "      <th>Favorite Music Genre</th>\n",
       "      <th>Favorite Beverage</th>\n",
       "      <th>Favorite Soft Drink</th>\n",
       "      <th>Gender</th>\n",
       "    </tr>\n",
       "  </thead>\n",
       "  <tbody>\n",
       "    <tr>\n",
       "      <th>count</th>\n",
       "      <td>66</td>\n",
       "      <td>66</td>\n",
       "      <td>66</td>\n",
       "      <td>66</td>\n",
       "      <td>66</td>\n",
       "    </tr>\n",
       "    <tr>\n",
       "      <th>unique</th>\n",
       "      <td>3</td>\n",
       "      <td>7</td>\n",
       "      <td>6</td>\n",
       "      <td>4</td>\n",
       "      <td>2</td>\n",
       "    </tr>\n",
       "    <tr>\n",
       "      <th>top</th>\n",
       "      <td>Cool</td>\n",
       "      <td>Rock</td>\n",
       "      <td>Doesn't drink</td>\n",
       "      <td>Coca Cola/Pepsi</td>\n",
       "      <td>M</td>\n",
       "    </tr>\n",
       "    <tr>\n",
       "      <th>freq</th>\n",
       "      <td>37</td>\n",
       "      <td>19</td>\n",
       "      <td>14</td>\n",
       "      <td>32</td>\n",
       "      <td>33</td>\n",
       "    </tr>\n",
       "  </tbody>\n",
       "</table>\n",
       "</div>"
      ],
      "text/plain": [
       "       Favorite Color Favorite Music Genre Favorite Beverage  \\\n",
       "count              66                   66                66   \n",
       "unique              3                    7                 6   \n",
       "top              Cool                 Rock     Doesn't drink   \n",
       "freq               37                   19                14   \n",
       "\n",
       "       Favorite Soft Drink Gender  \n",
       "count                   66     66  \n",
       "unique                   4      2  \n",
       "top        Coca Cola/Pepsi      M  \n",
       "freq                    32     33  "
      ]
     },
     "execution_count": 6,
     "metadata": {},
     "output_type": "execute_result"
    }
   ],
   "source": [
    "datos_genero.describe()"
   ]
  },
  {
   "cell_type": "markdown",
   "metadata": {},
   "source": [
    "Veamos que valores puede tomar cada feature o atributo:"
   ]
  },
  {
   "cell_type": "code",
   "execution_count": 7,
   "metadata": {},
   "outputs": [
    {
     "data": {
      "text/plain": [
       "['Cool', 'Neutral', 'Warm']"
      ]
     },
     "execution_count": 7,
     "metadata": {},
     "output_type": "execute_result"
    }
   ],
   "source": [
    "datos_genero['Favorite Color'].unique().tolist()"
   ]
  },
  {
   "cell_type": "code",
   "execution_count": 8,
   "metadata": {},
   "outputs": [
    {
     "data": {
      "text/plain": [
       "['Rock',\n",
       " 'Hip hop',\n",
       " 'Folk/Traditional',\n",
       " 'Jazz/Blues',\n",
       " 'Pop',\n",
       " 'Electronic',\n",
       " 'R&B and soul']"
      ]
     },
     "execution_count": 8,
     "metadata": {},
     "output_type": "execute_result"
    }
   ],
   "source": [
    "datos_genero[\"Favorite Music Genre\"].unique().tolist()"
   ]
  },
  {
   "cell_type": "code",
   "execution_count": 9,
   "metadata": {},
   "outputs": [
    {
     "data": {
      "text/plain": [
       "['Vodka', 'Wine', 'Whiskey', \"Doesn't drink\", 'Beer', 'Other']"
      ]
     },
     "execution_count": 9,
     "metadata": {},
     "output_type": "execute_result"
    }
   ],
   "source": [
    "datos_genero[\"Favorite Beverage\"].unique().tolist()"
   ]
  },
  {
   "cell_type": "code",
   "execution_count": 10,
   "metadata": {},
   "outputs": [
    {
     "data": {
      "text/plain": [
       "['7UP/Sprite', 'Coca Cola/Pepsi', 'Fanta', 'Other']"
      ]
     },
     "execution_count": 10,
     "metadata": {},
     "output_type": "execute_result"
    }
   ],
   "source": [
    "datos_genero[\"Favorite Soft Drink\"].unique().tolist()"
   ]
  },
  {
   "cell_type": "markdown",
   "metadata": {},
   "source": [
    "Queremos ver ahora si las clases estan desbalanceadas o no, es decir si hay mas hombres, mas mujeres o fueron encuestados en igual proporciones:"
   ]
  },
  {
   "cell_type": "code",
   "execution_count": 11,
   "metadata": {},
   "outputs": [
    {
     "data": {
      "text/plain": [
       "<AxesSubplot:ylabel='Gender'>"
      ]
     },
     "execution_count": 11,
     "metadata": {},
     "output_type": "execute_result"
    },
    {
     "data": {
      "image/png": "[encoded data removed]",
      "text/plain": [
       "<Figure size 840x560 with 1 Axes>"
      ]
     },
     "metadata": {},
     "output_type": "display_data"
    }
   ],
   "source": [
    "fig = plt.figure(dpi=140)\n",
    "datos_genero[\"Gender\"].value_counts().plot.pie(ax = plt.gca(), colors=['lightblue', 'pink'], labels=['Male', 'Female'], autopct='%.1f')"
   ]
  },
  {
   "cell_type": "markdown",
   "metadata": {},
   "source": [
    "¡Hay exactamente la mitad de hombres y de mujeres! Esto permite que el accuraccy sobre el set de training pueda ser una métrica fiable a tener en cuenta"
   ]
  },
  {
   "cell_type": "markdown",
   "metadata": {},
   "source": [
    "Veamos para cada valor de cada feature, cuantos hombres y cuantas mujeres hay:"
   ]
  },
  {
   "cell_type": "code",
   "execution_count": 12,
   "metadata": {},
   "outputs": [
    {
     "data": {
      "image/png": "[encoded data removed]",
      "text/plain": [
       "<Figure size 1000x1000 with 4 Axes>"
      ]
     },
     "metadata": {
      "needs_background": "light"
     },
     "output_type": "display_data"
    }
   ],
   "source": [
    "fig, ((ax1, ax2), (ax3, ax4)) = plt.subplots(ncols=2, nrows=2, figsize=(10,10), dpi = 100)\n",
    "sns.countplot(x=\"Favorite Color\", hue=\"Gender\", data=datos_genero, ax=ax1, palette={\"F\": \"pink\", \"M\":\"lightblue\"})\n",
    "sns.countplot(x=\"Favorite Music Genre\", hue=\"Gender\", data=datos_genero, ax=ax2, palette={\"F\": \"pink\", \"M\":\"lightblue\"})\n",
    "sns.countplot(x=\"Favorite Beverage\", hue=\"Gender\", data=datos_genero, ax=ax3, palette={\"F\": \"pink\", \"M\":\"lightblue\"})\n",
    "sns.countplot(x=\"Favorite Soft Drink\", hue=\"Gender\", data=datos_genero, ax=ax4, palette={\"F\": \"pink\", \"M\":\"lightblue\"})\n",
    "plt.setp(ax2.xaxis.get_majorticklabels(), rotation=30)\n",
    "plt.setp(ax3.xaxis.get_majorticklabels(), rotation=30)\n",
    "plt.tight_layout(pad=0.4, w_pad=0.5, h_pad=1.0)"
   ]
  },
  {
   "cell_type": "markdown",
   "metadata": {},
   "source": [
    "Haccer algun analisis"
   ]
  },
  {
   "cell_type": "markdown",
   "metadata": {},
   "source": [
    "# Naive Bayes"
   ]
  },
  {
   "cell_type": "markdown",
   "metadata": {},
   "source": [
    "Separo la columna que quiero predecir del resto para poder luego dividir en grupo de training y de testing, además para implementar mi algoritmo de Naive Bayes necesito que las respuestas ¨Other¨ de cada categoria se diferencien por lo que las reemplazo por: ¨Other music genre¨, ¨Other soft drink¨ y ¨Other beverage¨ según corresponda."
   ]
  },
  {
   "cell_type": "code",
   "execution_count": 13,
   "metadata": {},
   "outputs": [],
   "source": [
    "genero = datos_genero[\"Gender\"]"
   ]
  },
  {
   "cell_type": "code",
   "execution_count": 14,
   "metadata": {},
   "outputs": [],
   "source": [
    "datos_genero.drop(columns = \"Gender\", inplace = True)"
   ]
  },
  {
   "cell_type": "code",
   "execution_count": 15,
   "metadata": {},
   "outputs": [],
   "source": [
    "datos_genero[\"Favorite Music Genre\"].replace({\"Other\" : \"Other music genre\"}, inplace = True)\n",
    "datos_genero[\"Favorite Soft Drink\"].replace({\"Other\" : \"Other soft drink\"}, inplace = True)\n",
    "datos_genero[\"Favorite Beverage\"].replace({\"Other\" : \"Other beverage\"}, inplace =  True)"
   ]
  },
  {
   "cell_type": "code",
   "execution_count": 16,
   "metadata": {},
   "outputs": [],
   "source": [
    "X_train, X_test, y_train, y_test = train_test_split(datos_genero, genero, test_size=0.4, random_state=5)"
   ]
  },
  {
   "cell_type": "markdown",
   "metadata": {},
   "source": [
    "### Mi Naive Bayes\n",
    "Procedo a crear un clasificador de Naive Bayes de manera manual, se explica en el informe de Naive Bayes la justificación estadística de este algoritmo."
   ]
  },
  {
   "cell_type": "code",
   "execution_count": 17,
   "metadata": {},
   "outputs": [
    {
     "name": "stdout",
     "output_type": "stream",
     "text": [
      "Porcentaje de accuracy en el set de testing: 0.5555555555555556 \n"
     ]
    }
   ],
   "source": [
    "probabilidades_a_priori_genero = y_train.value_counts(normalize = True)\n",
    "\n",
    "probabilidad_a_priori_ser_hombre = probabilidades_a_priori_genero.loc[\"M\"] \n",
    "probabilidad_a_priori_ser_mujer = probabilidades_a_priori_genero.loc[\"F\"] \n",
    "\n",
    "probabilidades_a_priori_mujer = pd.Series(dtype='float64')\n",
    "probabilidades_a_priori_hombre = pd.Series(dtype='float64')\n",
    "\n",
    "y_pred = []\n",
    "\n",
    "for column in X_train.columns:\n",
    "    probabilidades_a_priori_hombre = pd.concat([probabilidades_a_priori_hombre, X_train.loc[y_train[y_train == 'M'].index][column].value_counts(normalize = True)])\n",
    "    probabilidades_a_priori_mujer = pd.concat([probabilidades_a_priori_mujer, X_train.loc[y_train[y_train == 'F'].index][column].value_counts(normalize = True)])\n",
    "\n",
    "for encuestado in X_test.index:\n",
    "    preguntas = X_test.loc[encuestado]\n",
    "    probabilidad_a_posteriori_ser_hombre = probabilidad_a_priori_ser_hombre\n",
    "    probabilidad_a_posteriori_ser_mujer = probabilidad_a_priori_ser_mujer\n",
    "\n",
    "    for pregunta in preguntas.index:\n",
    "        respuesta = preguntas.loc[pregunta]\n",
    "        try:\n",
    "            probabilidad_feature_hombre = probabilidades_a_priori_hombre.loc[respuesta]\n",
    "        except:\n",
    "            probabilidad_feature_hombre = 0\n",
    "        \n",
    "        try:\n",
    "            probabilidad_feature_mujer = probabilidades_a_priori_mujer.loc[respuesta]\n",
    "        except:\n",
    "            probabilidad_feature_mujer = 0\n",
    "            \n",
    "        probabilidad_a_posteriori_ser_hombre *= probabilidad_feature_hombre\n",
    "        probabilidad_a_posteriori_ser_mujer *= probabilidad_feature_mujer\n",
    "        \n",
    "    if(probabilidad_a_posteriori_ser_hombre > probabilidad_a_posteriori_ser_mujer):\n",
    "        y_pred.append(\"M\")\n",
    "    else:\n",
    "        y_pred.append(\"F\")\n",
    "    \n",
    "print(f\"Porcentaje de accuracy en el set de testing: {(y_test == y_pred).mean()} \")"
   ]
  },
  {
   "cell_type": "markdown",
   "metadata": {},
   "source": [
    "### Categorical Naive Bayes de Sci-Kit Learn\n",
    "Procedo a utilizar el clasificador de Naive Bayes que provee la libreria Sci-Kit Learn:"
   ]
  },
  {
   "cell_type": "code",
   "execution_count": 18,
   "metadata": {},
   "outputs": [
    {
     "name": "stdout",
     "output_type": "stream",
     "text": [
      "Porcentaje de accuracy en el set de testing: 0.5555555555555556 \n"
     ]
    }
   ],
   "source": [
    "gnb = CategoricalNB(alpha = 0.0000000001)\n",
    "\n",
    "enc = OrdinalEncoder()\n",
    "\n",
    "enc.fit(X_train)\n",
    "X_train = enc.transform(X_train)\n",
    "\n",
    "X_test = enc.transform(X_test)\n",
    "\n",
    "y_pred_NB = gnb.fit(X_train, y_train).predict(X_test)\n",
    "print(f\"Porcentaje de accuracy en el set de testing: {(y_test == y_pred_NB).mean()} \")"
   ]
  },
  {
   "cell_type": "markdown",
   "metadata": {},
   "source": [
    "### Comparando los resiltados:"
   ]
  },
  {
   "cell_type": "code",
   "execution_count": 19,
   "metadata": {},
   "outputs": [
    {
     "data": {
      "text/plain": [
       "array([ True,  True,  True,  True,  True,  True,  True,  True,  True,\n",
       "        True,  True,  True,  True,  True,  True,  True,  True,  True,\n",
       "        True,  True,  True,  True,  True,  True,  True,  True,  True])"
      ]
     },
     "execution_count": 19,
     "metadata": {},
     "output_type": "execute_result"
    }
   ],
   "source": [
    "y_pred == y_pred_NB"
   ]
  },
  {
   "cell_type": "markdown",
   "metadata": {},
   "source": [
    "¡Observamos que el clasificador creado coincide perfectamente con el de Sci-Kit Learn! Sin embargo, las predicciones hechas con ambos no son muy buenas, hay un 55% de accuracy sobre el set de datos."
   ]
  },
  {
   "cell_type": "markdown",
   "metadata": {},
   "source": [
    "### Matriz de confusión"
   ]
  },
  {
   "cell_type": "markdown",
   "metadata": {},
   "source": [
    "Haré una matriz de confusión para ver si el problema es que predigo que muchas personas son hombres o que muchas personas son mujeres, o ambos:"
   ]
  },
  {
   "cell_type": "code",
   "execution_count": 20,
   "metadata": {},
   "outputs": [],
   "source": [
    "from sklearn.metrics import confusion_matrix\n",
    "tn, fp, fn, tp = confusion_matrix(y_test, y_pred).ravel()"
   ]
  },
  {
   "cell_type": "code",
   "execution_count": 21,
   "metadata": {},
   "outputs": [
    {
     "data": {
      "text/plain": [
       "Text(69.58333333333334, 0.5, 'Real')"
      ]
     },
     "execution_count": 21,
     "metadata": {},
     "output_type": "execute_result"
    },
    {
     "data": {
      "image/png": "[encoded data removed]",
      "text/plain": [
       "<Figure size 900x600 with 2 Axes>"
      ]
     },
     "metadata": {
      "needs_background": "light"
     },
     "output_type": "display_data"
    }
   ],
   "source": [
    "fig, ax = plt.subplots(dpi =150)   \n",
    "sns.heatmap(confusion_matrix(y_test, y_pred), annot = True, vmin = 0, yticklabels=[\"Hombre\",\"Mujer\"], xticklabels=[\"Hombre\", \"Mujer\"], ax=ax)\n",
    "ax.set_title(\"Matriz de confusion - Naive Bayes\")\n",
    "ax.set_xlabel(\"Predicho\")\n",
    "ax.set_ylabel(\"Real\")"
   ]
  },
  {
   "cell_type": "markdown",
   "metadata": {},
   "source": [
    "Puedo ver que la matriz de confusión no es buena a simple vista. Lo ideal sería que tuviera valores altos en la diagonal principal y valores bajos en la diagonal invertida, sin embargo se observa que los valores son muy similares en ambas diagonales."
   ]
  },
  {
   "cell_type": "markdown",
   "metadata": {},
   "source": [
    "Podemos decir también que el error en las predicciones de hombres es igual al error en las predicciones de mujeres: se predijeron la misma cantidad de hombres equivocadamente que de mujeres (6)."
   ]
  },
  {
   "cell_type": "markdown",
   "metadata": {},
   "source": [
    "# Árbol de decisión"
   ]
  },
  {
   "cell_type": "markdown",
   "metadata": {},
   "source": [
    "El clasificador de arbol de decision de la libreria sci-kit learn requiere que antes de realizar el entrenamiento se utilice One Hot Encoding para trabajar con las variables categoricas, por lo tanto importamos las librerias necesarias:"
   ]
  },
  {
   "cell_type": "code",
   "execution_count": 22,
   "metadata": {},
   "outputs": [],
   "source": [
    "from sklearn import preprocessing, tree\n",
    "from sklearn.preprocessing import OneHotEncoder\n",
    "from sklearn.dummy import DummyClassifier"
   ]
  },
  {
   "cell_type": "markdown",
   "metadata": {},
   "source": [
    "Realizamos un LabelEncoding sobre la variable objetivo y un OHE sobre el set de entrenamiento:"
   ]
  },
  {
   "cell_type": "code",
   "execution_count": 98,
   "metadata": {},
   "outputs": [],
   "source": [
    "datos_genero_OHE = pd.get_dummies(datos_genero, drop_first=True, columns=datos_genero.columns)\n",
    "\n",
    "label_encoder = preprocessing.LabelEncoder()\n",
    "label_encoder.fit(genero)\n",
    "genero_encodeado = label_encoder.transform(genero)"
   ]
  },
  {
   "cell_type": "markdown",
   "metadata": {},
   "source": [
    "El resultado del OHE es el siguiente:"
   ]
  },
  {
   "cell_type": "code",
   "execution_count": 99,
   "metadata": {},
   "outputs": [
    {
     "data": {
      "text/html": [
       "<div>\n",
       "<style scoped>\n",
       "    .dataframe tbody tr th:only-of-type {\n",
       "        vertical-align: middle;\n",
       "    }\n",
       "\n",
       "    .dataframe tbody tr th {\n",
       "        vertical-align: top;\n",
       "    }\n",
       "\n",
       "    .dataframe thead th {\n",
       "        text-align: right;\n",
       "    }\n",
       "</style>\n",
       "<table border=\"1\" class=\"dataframe\">\n",
       "  <thead>\n",
       "    <tr style=\"text-align: right;\">\n",
       "      <th></th>\n",
       "      <th>Favorite Color_Neutral</th>\n",
       "      <th>Favorite Color_Warm</th>\n",
       "      <th>Favorite Music Genre_Folk/Traditional</th>\n",
       "      <th>Favorite Music Genre_Hip hop</th>\n",
       "      <th>Favorite Music Genre_Jazz/Blues</th>\n",
       "      <th>Favorite Music Genre_Pop</th>\n",
       "      <th>Favorite Music Genre_R&amp;B and soul</th>\n",
       "      <th>Favorite Music Genre_Rock</th>\n",
       "      <th>Favorite Beverage_Doesn't drink</th>\n",
       "      <th>Favorite Beverage_Other beverage</th>\n",
       "      <th>Favorite Beverage_Vodka</th>\n",
       "      <th>Favorite Beverage_Whiskey</th>\n",
       "      <th>Favorite Beverage_Wine</th>\n",
       "      <th>Favorite Soft Drink_Coca Cola/Pepsi</th>\n",
       "      <th>Favorite Soft Drink_Fanta</th>\n",
       "      <th>Favorite Soft Drink_Other soft drink</th>\n",
       "    </tr>\n",
       "  </thead>\n",
       "  <tbody>\n",
       "    <tr>\n",
       "      <th>0</th>\n",
       "      <td>0</td>\n",
       "      <td>0</td>\n",
       "      <td>0</td>\n",
       "      <td>0</td>\n",
       "      <td>0</td>\n",
       "      <td>0</td>\n",
       "      <td>0</td>\n",
       "      <td>1</td>\n",
       "      <td>0</td>\n",
       "      <td>0</td>\n",
       "      <td>1</td>\n",
       "      <td>0</td>\n",
       "      <td>0</td>\n",
       "      <td>0</td>\n",
       "      <td>0</td>\n",
       "      <td>0</td>\n",
       "    </tr>\n",
       "    <tr>\n",
       "      <th>1</th>\n",
       "      <td>1</td>\n",
       "      <td>0</td>\n",
       "      <td>0</td>\n",
       "      <td>1</td>\n",
       "      <td>0</td>\n",
       "      <td>0</td>\n",
       "      <td>0</td>\n",
       "      <td>0</td>\n",
       "      <td>0</td>\n",
       "      <td>0</td>\n",
       "      <td>1</td>\n",
       "      <td>0</td>\n",
       "      <td>0</td>\n",
       "      <td>1</td>\n",
       "      <td>0</td>\n",
       "      <td>0</td>\n",
       "    </tr>\n",
       "    <tr>\n",
       "      <th>2</th>\n",
       "      <td>0</td>\n",
       "      <td>1</td>\n",
       "      <td>0</td>\n",
       "      <td>0</td>\n",
       "      <td>0</td>\n",
       "      <td>0</td>\n",
       "      <td>0</td>\n",
       "      <td>1</td>\n",
       "      <td>0</td>\n",
       "      <td>0</td>\n",
       "      <td>0</td>\n",
       "      <td>0</td>\n",
       "      <td>1</td>\n",
       "      <td>1</td>\n",
       "      <td>0</td>\n",
       "      <td>0</td>\n",
       "    </tr>\n",
       "    <tr>\n",
       "      <th>3</th>\n",
       "      <td>0</td>\n",
       "      <td>1</td>\n",
       "      <td>1</td>\n",
       "      <td>0</td>\n",
       "      <td>0</td>\n",
       "      <td>0</td>\n",
       "      <td>0</td>\n",
       "      <td>0</td>\n",
       "      <td>0</td>\n",
       "      <td>0</td>\n",
       "      <td>0</td>\n",
       "      <td>1</td>\n",
       "      <td>0</td>\n",
       "      <td>0</td>\n",
       "      <td>1</td>\n",
       "      <td>0</td>\n",
       "    </tr>\n",
       "    <tr>\n",
       "      <th>4</th>\n",
       "      <td>0</td>\n",
       "      <td>0</td>\n",
       "      <td>0</td>\n",
       "      <td>0</td>\n",
       "      <td>0</td>\n",
       "      <td>0</td>\n",
       "      <td>0</td>\n",
       "      <td>1</td>\n",
       "      <td>0</td>\n",
       "      <td>0</td>\n",
       "      <td>1</td>\n",
       "      <td>0</td>\n",
       "      <td>0</td>\n",
       "      <td>1</td>\n",
       "      <td>0</td>\n",
       "      <td>0</td>\n",
       "    </tr>\n",
       "  </tbody>\n",
       "</table>\n",
       "</div>"
      ],
      "text/plain": [
       "   Favorite Color_Neutral  Favorite Color_Warm  \\\n",
       "0                       0                    0   \n",
       "1                       1                    0   \n",
       "2                       0                    1   \n",
       "3                       0                    1   \n",
       "4                       0                    0   \n",
       "\n",
       "   Favorite Music Genre_Folk/Traditional  Favorite Music Genre_Hip hop  \\\n",
       "0                                      0                             0   \n",
       "1                                      0                             1   \n",
       "2                                      0                             0   \n",
       "3                                      1                             0   \n",
       "4                                      0                             0   \n",
       "\n",
       "   Favorite Music Genre_Jazz/Blues  Favorite Music Genre_Pop  \\\n",
       "0                                0                         0   \n",
       "1                                0                         0   \n",
       "2                                0                         0   \n",
       "3                                0                         0   \n",
       "4                                0                         0   \n",
       "\n",
       "   Favorite Music Genre_R&B and soul  Favorite Music Genre_Rock  \\\n",
       "0                                  0                          1   \n",
       "1                                  0                          0   \n",
       "2                                  0                          1   \n",
       "3                                  0                          0   \n",
       "4                                  0                          1   \n",
       "\n",
       "   Favorite Beverage_Doesn't drink  Favorite Beverage_Other beverage  \\\n",
       "0                                0                                 0   \n",
       "1                                0                                 0   \n",
       "2                                0                                 0   \n",
       "3                                0                                 0   \n",
       "4                                0                                 0   \n",
       "\n",
       "   Favorite Beverage_Vodka  Favorite Beverage_Whiskey  Favorite Beverage_Wine  \\\n",
       "0                        1                          0                       0   \n",
       "1                        1                          0                       0   \n",
       "2                        0                          0                       1   \n",
       "3                        0                          1                       0   \n",
       "4                        1                          0                       0   \n",
       "\n",
       "   Favorite Soft Drink_Coca Cola/Pepsi  Favorite Soft Drink_Fanta  \\\n",
       "0                                    0                          0   \n",
       "1                                    1                          0   \n",
       "2                                    1                          0   \n",
       "3                                    0                          1   \n",
       "4                                    1                          0   \n",
       "\n",
       "   Favorite Soft Drink_Other soft drink  \n",
       "0                                     0  \n",
       "1                                     0  \n",
       "2                                     0  \n",
       "3                                     0  \n",
       "4                                     0  "
      ]
     },
     "execution_count": 99,
     "metadata": {},
     "output_type": "execute_result"
    }
   ],
   "source": [
    "datos_genero_OHE.head()"
   ]
  },
  {
   "cell_type": "markdown",
   "metadata": {},
   "source": [
    "Procedo a realizar la division en datos de entrenamiento y en datos de validacion o testing:"
   ]
  },
  {
   "cell_type": "code",
   "execution_count": 47,
   "metadata": {},
   "outputs": [],
   "source": [
    "X_train, X_test, y_train, y_test = train_test_split(datos_genero_OHE, genero_encodeado, test_size=0.4, random_state=5)"
   ]
  },
  {
   "cell_type": "markdown",
   "metadata": {},
   "source": [
    "Entreno el arbol cuya profundidad maxima quiero que sea 3, el objetivo de esto es que no overfitee los datos de entrenamiento y ganar generalidad."
   ]
  },
  {
   "cell_type": "code",
   "execution_count": 96,
   "metadata": {},
   "outputs": [],
   "source": [
    "clf = tree.DecisionTreeClassifier(max_depth = 3)\n",
    "clf = clf.fit(X_train, y_train)"
   ]
  },
  {
   "cell_type": "code",
   "execution_count": 97,
   "metadata": {},
   "outputs": [
    {
     "data": {
      "text/plain": [
       "'arbol de decision.pdf'"
      ]
     },
     "execution_count": 97,
     "metadata": {},
     "output_type": "execute_result"
    }
   ],
   "source": [
    "import graphviz \n",
    "dot_data = tree.export_graphviz(clf, feature_names=datos_genero_OHE.columns.to_list(),  class_names=[\"Female\",\"Male\"],  max_depth = 3) \n",
    "graph = graphviz.Source(dot_data) \n",
    "graph.render(\"arbol de decision\") "
   ]
  },
  {
   "cell_type": "code",
   "execution_count": 100,
   "metadata": {},
   "outputs": [
    {
     "ename": "ModuleNotFoundError",
     "evalue": "No module named 'wand'",
     "output_type": "error",
     "traceback": [
      "\u001b[1;31m---------------------------------------------------------------------------\u001b[0m",
      "\u001b[1;31mModuleNotFoundError\u001b[0m                       Traceback (most recent call last)",
      "\u001b[1;32m<ipython-input-100-1da701a21654>\u001b[0m in \u001b[0;36m<module>\u001b[1;34m\u001b[0m\n\u001b[1;32m----> 1\u001b[1;33m \u001b[1;32mfrom\u001b[0m \u001b[0mwand\u001b[0m\u001b[1;33m.\u001b[0m\u001b[0mimage\u001b[0m \u001b[1;32mimport\u001b[0m \u001b[0mImage\u001b[0m \u001b[1;32mas\u001b[0m \u001b[0mWImage\u001b[0m\u001b[1;33m\u001b[0m\u001b[1;33m\u001b[0m\u001b[0m\n\u001b[0m\u001b[0;32m      2\u001b[0m \u001b[0mimg\u001b[0m \u001b[1;33m=\u001b[0m \u001b[0mWImage\u001b[0m\u001b[1;33m(\u001b[0m\u001b[0mfilename\u001b[0m\u001b[1;33m=\u001b[0m\u001b[1;34m'.pdf'\u001b[0m\u001b[1;33m)\u001b[0m\u001b[1;33m\u001b[0m\u001b[1;33m\u001b[0m\u001b[0m\n\u001b[0;32m      3\u001b[0m \u001b[0mimg\u001b[0m\u001b[1;33m\u001b[0m\u001b[1;33m\u001b[0m\u001b[0m\n",
      "\u001b[1;31mModuleNotFoundError\u001b[0m: No module named 'wand'"
     ]
    }
   ],
   "source": [
    "from wand.image import Image as WImage\n",
    "img = WImage(filename='.pdf')\n",
    "img"
   ]
  },
  {
   "cell_type": "code",
   "execution_count": 57,
   "metadata": {},
   "outputs": [
    {
     "data": {
      "text/plain": [
       "0.5925925925925926"
      ]
     },
     "execution_count": 57,
     "metadata": {},
     "output_type": "execute_result"
    }
   ],
   "source": [
    "(clf.predict(X_test) == y_test).mean()"
   ]
  },
  {
   "cell_type": "code",
   "execution_count": 95,
   "metadata": {},
   "outputs": [
    {
     "data": {
      "text/plain": [
       "0    20\n",
       "1    19\n",
       "dtype: int64"
      ]
     },
     "execution_count": 95,
     "metadata": {},
     "output_type": "execute_result"
    }
   ],
   "source": []
  },
  {
   "cell_type": "code",
   "execution_count": null,
   "metadata": {},
   "outputs": [],
   "source": []
  }
 ],
 "metadata": {
  "kernelspec": {
   "display_name": "Python 3",
   "language": "python",
   "name": "python3"
  },
  "language_info": {
   "codemirror_mode": {
    "name": "ipython",
    "version": 3
   },
   "file_extension": ".py",
   "mimetype": "text/x-python",
   "name": "python",
   "nbconvert_exporter": "python",
   "pygments_lexer": "ipython3",
   "version": "3.7.7"
  }
 },
 "nbformat": 4,
 "nbformat_minor": 4
}
